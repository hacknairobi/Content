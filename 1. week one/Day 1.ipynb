{
 "cells": [
  {
   "cell_type": "markdown",
   "metadata": {},
   "source": [
    "# Welcome to MSOMA Bootcamp 2019\n",
    "\n",
    "Today is the first day of this year's MSOMA bootcamp."
   ]
  },
  {
   "cell_type": "markdown",
   "metadata": {
    "collapsed": true
   },
   "source": [
    "## Introduction [Monicah]"
   ]
  },
  {
   "cell_type": "markdown",
   "metadata": {},
   "source": [
    "1. What is the MSOMA bootcamp?\n",
    "2. What should you expect to learn\n",
    "3. Pre-Bootcamp Assignment\n",
    "4. Facilitators"
   ]
  },
  {
   "cell_type": "markdown",
   "metadata": {},
   "source": [
    "## Python Basics [Rosianah/Lewis]"
   ]
  },
  {
   "cell_type": "markdown",
   "metadata": {},
   "source": [
    "### String Exercises"
   ]
  },
  {
   "cell_type": "code",
   "execution_count": 1,
   "metadata": {},
   "outputs": [
    {
     "name": "stdout",
     "output_type": "stream",
     "text": [
      "28\n",
      "batman\n",
      "heebie jeebies\n",
      "heebie jeebies\n",
      "zing\n"
     ]
    }
   ],
   "source": [
    "# 1 - Concatenation, Indexing, and Slicing\n",
    "\n",
    "# Exercise 1\n",
    "# Display the number of letters in the string\n",
    "my_word = \"antidisestablishmentarianism\"\n",
    "\n",
    "#Solution\n",
    "print(len(my_word))\n",
    "\n",
    "\n",
    "# Exercise 2\n",
    "# Concatenate two strings together\n",
    "string_left = \"bat\"\n",
    "string_right = \"man\"\n",
    "\n",
    "#Solution\n",
    "print(string_left + string_right)\n",
    "\n",
    "\n",
    "# Exercise 3\n",
    "# Display two strings together, with a space in between\n",
    "string_one = \"heebie\"\n",
    "string_two = \"jeebies\"\n",
    "\n",
    "#Solution\n",
    "print(string_one, string_two)\n",
    "\n",
    "\n",
    "# Exercise 3\n",
    "# Display two strings together, with a space in between\n",
    "string_one = \"heebie\"\n",
    "string_two = \"jeebies\"\n",
    "\n",
    "#Solution\n",
    "print(string_one + \" \" + string_two)\n",
    "\n",
    "\n",
    "# Exercise 4\n",
    "# Use subscripting to display part of a string\n",
    "\n",
    "#Solution\n",
    "print(\"bazinga\"[2:6])"
   ]
  },
  {
   "cell_type": "markdown",
   "metadata": {
    "collapsed": true
   },
   "source": [
    "## Exploratory Data Analysis"
   ]
  },
  {
   "cell_type": "code",
   "execution_count": 1,
   "metadata": {},
   "outputs": [
    {
     "ename": "SyntaxError",
     "evalue": "invalid syntax (<ipython-input-1-fbdbb39dc60a>, line 1)",
     "output_type": "error",
     "traceback": [
      "\u001b[0;36m  File \u001b[0;32m\"<ipython-input-1-fbdbb39dc60a>\"\u001b[0;36m, line \u001b[0;32m1\u001b[0m\n\u001b[0;31m    1. Remove outliers/anomalies\u001b[0m\n\u001b[0m            ^\u001b[0m\n\u001b[0;31mSyntaxError\u001b[0m\u001b[0;31m:\u001b[0m invalid syntax\n"
     ]
    }
   ],
   "source": [
    "1. Remove outliers/anomalies\n",
    "2. Remove missing values\n",
    "3. Scale the data/Normalization\n",
    "4. Visualize the data e.g. What variables are corelated with what variables\n",
    "5. Hypothesis testing"
   ]
  },
  {
   "cell_type": "code",
   "execution_count": null,
   "metadata": {
    "collapsed": true
   },
   "outputs": [],
   "source": []
  }
 ],
 "metadata": {
  "kernelspec": {
   "display_name": "Python 3",
   "language": "python",
   "name": "python3"
  },
  "language_info": {
   "codemirror_mode": {
    "name": "ipython",
    "version": 3
   },
   "file_extension": ".py",
   "mimetype": "text/x-python",
   "name": "python",
   "nbconvert_exporter": "python",
   "pygments_lexer": "ipython3",
   "version": "3.5.4"
  }
 },
 "nbformat": 4,
 "nbformat_minor": 1
}
