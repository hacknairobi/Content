{
 "cells": [
  {
   "cell_type": "markdown",
   "metadata": {},
   "source": [
    "# Welcome to MSOMA Bootcamp 2019\n",
    "\n",
    "Today is the first day of this year's MSOMA bootcamp."
   ]
  },
  {
   "cell_type": "markdown",
   "metadata": {
    "collapsed": true
   },
   "source": [
    "## Introduction [Monicah]"
   ]
  },
  {
   "cell_type": "markdown",
   "metadata": {},
   "source": [
    "1. What is the MSOMA bootcamp?\n",
    "2. What should you expect to learn\n",
    "3. Pre-Bootcamp Assignment\n",
    "4. Facilitators"
   ]
  },
  {
   "cell_type": "markdown",
   "metadata": {},
   "source": [
    "## Python Basics [Rosianah/Lewis]"
   ]
  },
  {
   "cell_type": "markdown",
   "metadata": {},
   "source": [
    "### String Exercises"
   ]
  },
  {
   "cell_type": "code",
   "execution_count": 1,
   "metadata": {
    "collapsed": false
   },
   "outputs": [
    {
     "name": "stdout",
     "output_type": "stream",
     "text": [
      "28\n",
      "batman\n",
      "heebie jeebies\n",
      "heebie jeebies\n",
      "zing\n"
     ]
    }
   ],
   "source": [
    "# 1 - Concatenation, Indexing, and Slicing\n",
    "\n",
    "# Exercise 1\n",
    "# Display the number of letters in the string\n",
    "my_word = \"antidisestablishmentarianism\"\n",
    "\n",
    "#Solution\n",
    "print(len(my_word))\n",
    "\n",
    "\n",
    "# Exercise 2\n",
    "# Concatenate two strings together\n",
    "string_left = \"bat\"\n",
    "string_right = \"man\"\n",
    "\n",
    "#Solution\n",
    "print(string_left + string_right)\n",
    "\n",
    "\n",
    "# Exercise 3\n",
    "# Display two strings together, with a space in between\n",
    "string_one = \"heebie\"\n",
    "string_two = \"jeebies\"\n",
    "\n",
    "#Solution\n",
    "print(string_one, string_two)\n",
    "\n",
    "\n",
    "# Exercise 3\n",
    "# Display two strings together, with a space in between\n",
    "string_one = \"heebie\"\n",
    "string_two = \"jeebies\"\n",
    "\n",
    "#Solution\n",
    "print(string_one + \" \" + string_two)\n",
    "\n",
    "\n",
    "# Exercise 4\n",
    "# Use subscripting to display part of a string\n",
    "\n",
    "#Solution\n",
    "print(\"bazinga\"[2:6])"
   ]
  },
  {
   "cell_type": "code",
   "execution_count": null,
   "metadata": {
    "collapsed": true
   },
   "outputs": [],
   "source": []
  }
 ],
 "metadata": {
  "kernelspec": {
   "display_name": "Python [Root]",
   "language": "python",
   "name": "Python [Root]"
  },
  "language_info": {
   "codemirror_mode": {
    "name": "ipython",
    "version": 3
   },
   "file_extension": ".py",
   "mimetype": "text/x-python",
   "name": "python",
   "nbconvert_exporter": "python",
   "pygments_lexer": "ipython3",
   "version": "3.5.2"
  }
 },
 "nbformat": 4,
 "nbformat_minor": 0
}
